{
 "cells": [
  {
   "cell_type": "markdown",
   "metadata": {
    "id": "qQDo0Ad8d4wM"
   },
   "source": [
    "# ASSIGNMENT 2 [OOP]\n",
    "**Josefine (joba21ab), Ekaterina (ekba21ab) & Pernille Køber Opstad (peop15ab)**\n",
    "\n",
    "The programme consists of three classes that defines instances of students, courses and diploma programmes, named accordingly, at CBS as described in the given assignment text, as well as their related methods that defines their behaviour. The classes are described in detail in following cells.\n",
    "\n",
    "By design we have in addition to the suggested behaviour in the assignment text:\n",
    "* Students and courses have an automatically generated ID to distinguish the objects as they can have the same name. \n",
    "* Course objects that are not obligatory data science courses can exists and students can be enrolled in them. Only mandatory courses are considered when checking the status for pass/fail/distinction of the programme.  \n",
    "* Allow student objects to exist without being enrolled in all the mandatory courses. For students that are not enrolled in all mandatory courses, this is indicated as \"not eligible\" in the diploma status overview. \n",
    "* The code is scalable in terms of allowing different numbers of non-mandatory and mandatory courses and still gives the correct comparison for evaluating pass/fail/distinction of programme. \n",
    "* Testing is scalable since objects have been created dynamically in for-loops so that more courses and students can be generated, as well as the grade scenarios as it is iterated in cycles. Further, it has a class structure so it can easily be extended with testing modules like unittest or pytest. \n",
    "\n",
    "\n",
    "### Results\n",
    "\n",
    "**Calling ds.get_diploma_status() gives a dictionary with student ID as keys and diploma status as values** \n",
    "\n",
    " {1: 'not eligible', 2: 'passed', 3: 'failed', 4: 'passed with distinction', 5: 'passed', 6: 'failed', 7: 'passed with distinction', 8: 'passed', 9: 'failed', 10: 'passed with distinction', 11: 'passed', 12: 'failed', 13: 'passed with distinction', 14: 'passed'}. \n",
    "\n",
    "**Calling ds.get_grade_summary() give a basic statistic of number of distinction, passed and failed students of the Data Science Programme ** \n",
    "\n",
    "Passed with distinction: 4 \n",
    "\n",
    "Passed: 5 \n",
    "\n",
    "Failed: 4 \n",
    "\n",
    "\n",
    "\n",
    "### Error Handling\n",
    "Error handling is embedded in the methods to make sure that input and  \n",
    "\n",
    "**Assert statements** have been used to stop the execution of the programme \n",
    "\n",
    "**Raise exeptions** have been used to define error messages for specific types of errors, which interputs the execution.   \n",
    "\n",
    "**Try-except** have been used to catch errors when sought behaviour is not able to execute, but do not interrupt execution. This is why we have mainy used it to return feedback on errors that are not severe enough to interrupt execution.\n",
    "\n",
    "\n",
    "### Testing\n",
    "Finally we have defined some basic tests of methods of each of the three classes. For this we create inputs and scenarios to see if the methods behave as expected, defined by assert statements. \n",
    "\n"
   ]
  },
  {
   "cell_type": "markdown",
   "metadata": {
    "id": "a3Fk-eqMeII4"
   },
   "source": [
    "## DIPLOMA PROGRAMME CLASS\n",
    "\n",
    "The diplomma programme class creates programme instances. A programme is defined in regards to  which courses are mandatory and how many students who have passed/failed the diploma programme.\n",
    "\n",
    "The name used to access each specific instance of the class is the programme name. Furthermore, the instance also contain a list of mandatory courses and a dictionary of which students has passed, passed with distinction and failed. The list and the dictionaries are empty to begin with but by using the methods added to the class it is possible to add/remove courses as well as to update the diploma status and get a summary of it. Thus, 4 methods has been implemented in the class.\n",
    "\n",
    "**Add course method**: This method takes a course name as input. First, it checks whether the course name has not already been added to the course list. If it hasn't been added already then the course is added to the course list. Otherwise it'll print that the course name has already been added to the course list.\n",
    "\n",
    "**Remove course method**: This method also takes a course name as input. Opposite of the add_course method, this one checks if the course name already is in the list of courses. If it is, it removes the course from the list. If it's not in the course list it prints that the course is not in the programme. \n",
    "\n",
    "**Get diploma status method**: The diploma status method creates a dictionary listing the students that has passed, passed with distinction and failed the whole program. The function loops through all of the students in a list of all students. It refers to the STUDENT class and access the instances list from that class, which contains all students enrolled in the programme. Then two lists are created; one that keeps track of the students' diploma status and another that collects  number of passed courses for each student. Then the function checks if the student is enrolled in all of the mandatory courses. If the student is enrolled in all mandatory courses it loops through all courses in the course list and count the number of \"pass\" and append them to the list created earlier. Thus, there will be a list for each student containing the number of passed assignments. Then it checks if the amount of assingments passed in each course is equal to or greater than 3 as well as if the sum of the passed assignments in total is equal to or greater than 17. If this condition is true it'll be stated in the student diploma dict, that the student has passed with distinction. If it isn't true, it checks if the student has passed at least 3 assignments in each course. If that condition is true, the student will appear as passed in the student diploma dict. If none of the above conditions are true, the student will be added to the student diploma dict as failed. Lastly, the function returns the students diploma dict. Thus, when the function is called it'll return a dictionary stating which students has passed with distinction, passed and failed, respectively.\n",
    "\n",
    "**Get grade summary method**: This method returns a string that summarizes how many students passed with distinction, passed and failed, respectively. For each diploma status dictionary comprehension is used to summarize all values for the key in the students diploma dictionary that was created in the get diploma status function. The summarized value is saved in a variable (each for one of the possible diploma statuses) and then the values of these variables are returned in a string."
   ]
  },
  {
   "cell_type": "code",
   "execution_count": 22,
   "metadata": {
    "id": "ZjX03AgJDWbT"
   },
   "outputs": [],
   "source": [
    "\n",
    "class DiplomaProgramme():\n",
    "  \n",
    "    def __init__(self, programme_name):\n",
    "        self.name = programme_name\n",
    "        self.courses = [] \n",
    "        self.students_diploma = {}  #passed, passed with distiction, failed\n",
    "\n",
    "    def add_course(self, course_name):\n",
    "        \"\"\" Method that takes a course name as an input and then add this course to the course list of the programme\n",
    "        if th course is not already added \"\"\"\n",
    "        if course_name not in self.courses:\n",
    "            self.courses.append(course_name)\n",
    "        else: \n",
    "            print(course_name, 'already added to courses')\n",
    "    \n",
    "    def remove_course(self, course_name):\n",
    "        \"\"\" Method that takes a course name as an input and remove this course name from the course list\n",
    "        if the course is in the course list\"\"\"\n",
    "        if course_name in self.courses:\n",
    "          self.courses.remove(course_name)\n",
    "        else:\n",
    "          print(course_name, 'is already removed')\n",
    "    \n",
    "    def get_diploma_status(self):\n",
    "        \"\"\" Method that returns a list of students who passed with distinction,\n",
    "        passed and failed\"\"\"\n",
    "        for student in Student.instances:\n",
    "          self.students_diploma[student.ID] = []\n",
    "          n_passed_course = []\n",
    "\n",
    "          if all(course in student.transcript.keys() for course in self.courses):\n",
    "            for course in self.courses:\n",
    "              n_passed_course.append(student.transcript[course].count(\"pass\")) #counting the number of \"pass\" assignments in each course\n",
    "\n",
    "            if all(a >= 3 for a in n_passed_course) and sum(n_passed_course) >= (4*len(self.courses)+1): #will be 17 if the course list is 4, but works for greater or smaller number of mandatory courses.\n",
    "              self.students_diploma[student.ID] = \"passed with distinction\"\n",
    "            elif all(a >= 3 for a in n_passed_course): \n",
    "              self.students_diploma[student.ID] = \"passed\"\n",
    "            else: \n",
    "              self.students_diploma[student.ID]= \"failed\"\n",
    "      \n",
    "          else:\n",
    "            self.students_diploma[student.ID]= \"not eligible\"\n",
    "            print(\"The student {0} with ID {1} is not enrolled in all of the mandatory courses.\".format(student.name, student.ID))\n",
    "\n",
    "        return self.students_diploma\n",
    "    \n",
    "\n",
    "    def get_grade_summary(self): \n",
    "      \"\"\" Method that returns an overview of how many students passed with distinction,\n",
    "      passed and failed\"\"\"\n",
    "      n_distinction = sum(x == \"passed with distinction\" for x in self.students_diploma.values())\n",
    "      n_passed = sum(x == \"passed\" for x in self.students_diploma.values())\n",
    "      n_failed = sum(x == \"failed\" for x in self.students_diploma.values())\n",
    "      \n",
    "      return \"Number of passed with distinction: {0} /nNumber of students Passed: {1} /nNumber of students that failed: {2}/n\".format(n_distinction, n_passed, n_failed)\n",
    "\n",
    "    def __str__(self):\n",
    "      return \"Diploma programme: {0} \".format(self.name)\n",
    "      \n",
    "    "
   ]
  },
  {
   "cell_type": "markdown",
   "metadata": {
    "id": "qtmpRaZK_snF"
   },
   "source": [
    "## COURSE CLASS\n",
    "\n",
    "This class defines course instances, which takes a string argument for course name and is identified by a courseID that is generated incrementally. Further, it keeps track of students in the course by using a dictionary students_dict, which are enrolled by using the add_student method. The instances list makes sure that the objects that all course objects created can be accessed in other classes and code sections.\n",
    "\n",
    "**add_student(student_object)**  adds a list of five None-values as placeholders for the assignment in dictionary. This is added as value in a dicitionary that uses the ID associated with a student as key because it is unique. The dictionary holds ony unique keys which is useful to avoid duplicates which are allowed in lists and faster look-up times. If the student is already added in the dictionary, an explanatory string is printed. We chose to not do raise or asserts since the outcome is still as expected - if the student is not added it remains in the list - so we do not consider it important enough to stop the execution. This also applies for the remove_student() method. \n",
    "\n",
    "**remove_student(student_object)** removes an added student from the dictionary in course class, as well as removing course name from the student object's course list and transcript. If the student is never added or already removed, an explanatory string is printed. \n",
    "\n",
    "**update-assignment(student_object, assignment_no, status)** if the student is enrolled in the course, meaning its ID exists in the dictionary, then we update the list at index according to the assignment number. Since lists are zero-indexed then it should be the element at assignment number minus 1. Further, the make_transcript method defined in the Student class is called with the course name, to make sure that the current transcript is updated. Otherwise it returns an error message. Assert statements makes sure that the arguments given for assignment number is btween 1-5 to avoid index errors and status is either pass or fail strings as this is necessary for the list count function to work in get_diploma method in DiplomaProgramme class. "
   ]
  },
  {
   "cell_type": "code",
   "execution_count": 23,
   "metadata": {
    "id": "1YtiCA05IUgp"
   },
   "outputs": [],
   "source": [
    "class Course():\n",
    "  \"\"\" Class course defines class object and methods for adding student objects \n",
    "  to courses instances and updating students' assignments \"\"\"\n",
    "  \n",
    "  unique_courseID = 1\n",
    "  instances = []\n",
    "\n",
    "  def __init__(self, course_name):\n",
    "    self.course_name = course_name\n",
    "    self.students_dict = {}                   #dictionary that contains student ID and status of mandatory assignments.\n",
    "    self.courseID = Course.unique_courseID\n",
    "    Course.unique_courseID += 1               #creates a unique ID by iterating on the previous ID value\n",
    "    self.instances.append(self)               #adds object to a list of objects\n",
    "\n",
    "  def add_student(self, student_object):\n",
    "    \"\"\"Method to ad student object to course instance. Takes studetn object and returns None \"\"\"\n",
    "\n",
    "    if student_object.ID not in self.students_dict.keys() and student_object.ID <= Student.unique_ID:\n",
    "      self.students_dict[student_object.ID] = [None]*5  #creates None placeholders for the assignment grades\n",
    "      student_object._make_courses(self.course_name)    #updates course list associated with the student object\n",
    "    else:\n",
    "      print(\"student is already enrolled, or ID already exists\")\n",
    "\n",
    "\n",
    "  def remove_student(self, student_object):\n",
    "    \"\"\"Method to remove student object from course. Takes student object and returns None\"\"\"\n",
    "\n",
    "    if student_object.ID in self.students_dict.keys():\n",
    "      del self.students_dict[student_object.ID]           #removes student from dictionary of student and grades.\n",
    "      student_object.courses.remove(self.course_name)     #removes course name from list in Student objects' courses list\n",
    "      if self.course_name in student_object.transcript.keys(): #in case student is removed after update assignment is called, then remove course from student transcript.\n",
    "        del student_object.transcript[self.course_name]\n",
    "    else:\n",
    "      print(\"student {0} is not enrolled in course {1}\").format(student_object.name, self.course_name)\n",
    "\n",
    "\n",
    "  def update_assignments(self, student_object, assignment_no, status):\n",
    "    \"\"\" Method to update a student's assignment grade as pass/fail. Takes student object, \n",
    "    assignment number to update and the string value pass or fail, and returns None. \"\"\"\n",
    "    \n",
    "    assert (0 < assignment_no <= 5), \"when updating assignment status, the assignment number should be between 1-5 (inlcusive)\"\n",
    "    assert (status == \"pass\" or status == \"fail\"), \"when updating assignment status, given string should be either pass or fail, not{0} with type {1}\".format(status, type(status))    \n",
    "    \n",
    "    try:\n",
    "      self.students_dict[student_object.ID][assignment_no-1] = status                           #update status at given index in dictionary value list\n",
    "      student_object._make_transcript(self.course_name, self.students_dict[student_object.ID])  #updates course list in Student class\n",
    "    except:\n",
    "      return \"Tried to update assignment status for student {0} who is not enrolled in the course {1}\".format(student_object.name, self.course_name) \n",
    "\n",
    "  def __str__(self):\n",
    "    return \"Course: {0}, \\nCourse ID: {1}, \\nNumber of enrolled students: {2} \".format(self.course_name, \n",
    "                                                                                    self.courseID, len(self.students_dict))\n"
   ]
  },
  {
   "cell_type": "markdown",
   "metadata": {
    "id": "_CsXse3H_rzd"
   },
   "source": [
    "## STUDENT CLASS\n",
    "\n",
    "This class creates student instances. To initialize an istance it takes as an input one string that is a name of a student. It is also checked that name is a string not a number. Nevertheless, there are several additional attributes that are assigned to the instance. \n",
    "\n",
    "First of all, each instance gets a unique ID, starting from one. Unique ID is defined as a class attribute that increases each time when new instance is created. Another class atribute is a list that stores all instances of student class. Secondly, each student instance has a list with all courses where he is enrolled as well as a dictionary that contains all the transcript of all grades of the instance.\n",
    "\n",
    "Student class has 3 methods \"get\" type that will return ID, a list of courses and transcript of an instance. There are also two additional methods that are needed to create the course list and the transcript for each instance. These methods interact with methods from Course class."
   ]
  },
  {
   "cell_type": "code",
   "execution_count": 24,
   "metadata": {
    "id": "gI9fDs8QId_6"
   },
   "outputs": [],
   "source": [
    " class Student():\n",
    "\n",
    "  unique_ID = 1\n",
    "  instances = [] #to keep track of student instances used in DiplomaProgramme class to update passed/failed/distinction status.\n",
    "\n",
    "  def __init__(self, name):\n",
    "\n",
    "    if isinstance(name, int):\n",
    "            raise ValueError(\"The student's name cannot be a number\") #checks that name is a string without numbers\n",
    "    self.name = name\n",
    "    self.ID = Student.unique_ID     #creates a unique ID for each instances\n",
    "    Student.unique_ID += 1\n",
    "    self.courses = []       #creates a list of all courses that an instance is enrolled\n",
    "    self.transcript = {}    #creates a dictionary in which the keys are the names of courses and the values are lists with the results of assignments\n",
    "    self.instances.append(self) #add all instance to the list to keep track of all students\n",
    "\n",
    "  def get_ID(self):         #returns an ID of an instance\n",
    "    return self.ID\n",
    "\n",
    "  def _make_courses(self, course_name): \n",
    "    \"\"\" an auxiliary function that adds automatically a course to the instance's list of courses\n",
    "    when the instance is added to the course (add_student function in Course class)\"\"\"\n",
    "    return self.courses.append(course_name)\n",
    "\n",
    "  def get_courses(self):\n",
    "    \"\"\" returns a list of all courses that a student is enrolled\"\"\"\n",
    "    if not self.courses: #if there is no courses in a list returns this string\n",
    "      return \"Student is not enrolled to any course yet\"\n",
    "    else:\n",
    "      return self.courses\n",
    "  \n",
    "  def _make_transcript(self, course_name, assignments):\n",
    "      \"\"\" an auxiliary function that creates automatically an instance's transcript with with \n",
    "      the results of assignments of each course to which an instance is enrolled\n",
    "      (update_assignments function in Course class)\"\"\"\n",
    "      for c in self.courses:\n",
    "        if c not in self.transcript.keys():\n",
    "          self.transcript[c] = []\n",
    "\n",
    "      self.transcript[course_name] = assignments\n",
    "\n",
    "  def get_transcript(self): #returns a string with grades for each course\n",
    "    \"\"\" makes the transcript dictionary into a readable string where each line is a course plus grades\"\"\"\n",
    "    tran = \"\"\n",
    "    for i,v in self.transcript.items():\n",
    "      tran = tran + str(i)+\": \"+str(v) + \"\\n\"\n",
    "    if not tran: #if there is no grades in a transcript dictionary returns this string\n",
    "      tran = \"Student does not have grades yet\"\n",
    "    return tran\n",
    "\n",
    "  def __str__(self):\n",
    "    return \"Student: {name} \\nStudent ID: {ID} \\nStudent's grade transcript:\\n{tran}\".format(name = self.name, ID =self.ID, tran = self.get_transcript())"
   ]
  },
  {
   "cell_type": "markdown",
   "metadata": {
    "id": "2_iyCrkgCM0N"
   },
   "source": [
    "## Testing: Creating Instances"
   ]
  },
  {
   "cell_type": "code",
   "execution_count": 25,
   "metadata": {
    "id": "iMURKAY7vFD6"
   },
   "outputs": [],
   "source": [
    "### Creating object instances\n",
    "\n",
    "def create_instances(names_list, course_names, grade_scenarios):\n",
    "  \"\"\"create students and courses (dynamic variable naming inspired by: https://www.codegrepper.com/code-examples/python/dynamically+create+variables+in+loop+python ),\n",
    "  and create programme instance \"\"\"\n",
    "\n",
    "  for i in range(len(names_list)):\n",
    "      globals()[f\"s{i+1}\"] = Student(names_list[i])\n",
    "  assert len(Student.instances) == len(names_list), \"number of student instances does not correspond to number of names in names list\"\n",
    "\n",
    "  for i in range(len(course_names)):\n",
    "      globals()[f\"c{i+1}\"] = Course(course_names[i])\n",
    "  assert len(Course.instances) == len(course_names), \"number of course instances does not correspond to number of courses in course_name list\"\n",
    "\n",
    "  return \"instances has been created\"\n"
   ]
  },
  {
   "cell_type": "markdown",
   "metadata": {
    "id": "Tv2oDRaGCWwV"
   },
   "source": [
    "## Testing: Methods"
   ]
  },
  {
   "cell_type": "code",
   "execution_count": 26,
   "metadata": {
    "id": "IYMRNGY38dH5"
   },
   "outputs": [],
   "source": [
    "### Tests of Student class\n",
    "class StudentTest():\n",
    "  \n",
    "  def test_get_ID(self): \n",
    "    \"\"\" checks whether ID is correctly defined for each student instance, taking an index of each instance \n",
    "    in the list with all instances and comparing it with the ID number. \n",
    "    As well it checks whether ID is unique since indexes are unique \"\"\"\n",
    "    for i in range(len(Student.instances)):\n",
    "      assert Student.instances[i].ID == i+1, \"ID is not correct\"\n",
    "    \n",
    "\n",
    "  def test_list_of_courses(self):\n",
    "    \"\"\" checks whether a student instance has extra courses \"\"\"\n",
    "    for s in Student.instances:\n",
    "      assert all(item in course_names for item in s.courses), \"Student {0} is not enrolled in all obligatory courses\".format(s.ID)\n"
   ]
  },
  {
   "cell_type": "code",
   "execution_count": 27,
   "metadata": {
    "id": "HtezJli1tYLN"
   },
   "outputs": [],
   "source": [
    "### Tests of Course class\n",
    "import itertools\n",
    "\n",
    "class CourseTest():\n",
    "\n",
    "  def test_add_remove(self):\n",
    "    \"\"\"adding all students to all courses, then testing if remove student works\"\"\"\n",
    "    for s in Student.instances:\n",
    "      for c in Course.instances:\n",
    "        c.add_student(s)\n",
    "\n",
    "    assert s1.ID in c1.students_dict.keys()\n",
    "\n",
    "    #removing student from a mandatory course\n",
    "    c1.remove_student(s1)\n",
    "    assert s1.ID not in c1.students_dict.keys()\n",
    "\n",
    "    return \"test of add_student and remove_student passed\"\n",
    "\n",
    "  def test_update_assignments(self):\n",
    "    \"\"\"updating student aassignments \"\"\"\n",
    "    #updating assignment status\n",
    "    g = [\"pass\", \"pass\", \"pass\", \"fail\", \"fail\"]\n",
    "    for i in range(len(g)):\n",
    "      c1.update_assignments(s2, i+1, g[i])\n",
    "\n",
    "    assert g == c1.students_dict[s2.ID]\n",
    "\n",
    "    #assert that updating assignment status on removed student triggers error message\n",
    "    assert \"Tried to update assignment status for student\" in c1.update_assignments(s1, i+1, g[i])\n",
    "\n",
    "    #update alle student assignments. List cycling inspired by https://python-textbok.readthedocs.io/en/1.0/Loop_Control_Statements.html\n",
    "    for s,g in zip(Student.instances, itertools.cycle(grade_scenarios)):\n",
    "      for c in Course.instances:\n",
    "        if s.ID in c.students_dict:\n",
    "          for j in range(len(g)):\n",
    "            for i in range(len(g[j])):\n",
    "              c.update_assignments(s, i+1, g[j][i])\n",
    "\n",
    "    assert c2.students_dict[s1.ID].count(None) == 0, \"all assignments has not been updated\"\n",
    "\n",
    "    #overriding assignment status\n",
    "    c2.update_assignments(s2, 5, \"pass\")\n",
    "    assert c2.students_dict[s2.ID][5-1] == \"pass\", \"the assignment status has not been updated to the latest given grade\"\n",
    "    \n",
    "    return \"test of update_assignment passed\"\n"
   ]
  },
  {
   "cell_type": "code",
   "execution_count": 28,
   "metadata": {
    "id": "gP7IbMEwFfLr"
   },
   "outputs": [],
   "source": [
    "### Tests of Course class\n",
    "class DiplomaProgramme_test():\n",
    "\n",
    "  def test_add_remove_course(self):\n",
    "    \"\"\" adding courses to programme, \"\"\"\n",
    "    mandatory_courses =[\"Python Programming\", \"visual Analytics\", \"Data Mining\", \"Text Analytics\"]\n",
    "    \n",
    "    for c in mandatory_courses: \n",
    "      ds.add_course(c)\n",
    "\n",
    "    assert ds.courses == mandatory_courses, \"list of mandatory courses does not correspond to list of added mandatory courses in programme instance\"\n"
   ]
  },
  {
   "cell_type": "markdown",
   "metadata": {
    "id": "Jh3c5yvc_uN7"
   },
   "source": [
    "## Running tests"
   ]
  },
  {
   "cell_type": "code",
   "execution_count": 29,
   "metadata": {
    "colab": {
     "base_uri": "https://localhost:8080/"
    },
    "id": "bU2Cguk1SBKT",
    "outputId": "62fe3f08-8955-4045-86ca-b686f3ba7782"
   },
   "outputs": [
    {
     "name": "stdout",
     "output_type": "stream",
     "text": [
      "\n",
      "####################### RESULTS #######################\n",
      "The student Liam with ID 1 is not enrolled in all of the mandatory courses.\n",
      "\n",
      "### Dictionary of students ID as keys and distinction/passed/failed status as value ###\n",
      " {1: 'not eligible', 2: 'passed', 3: 'failed', 4: 'passed with distinction', 5: 'passed', 6: 'failed', 7: 'passed with distinction', 8: 'passed', 9: 'failed', 10: 'passed with distinction', 11: 'passed', 12: 'failed', 13: 'passed with distinction', 14: 'passed'}\n",
      "\n",
      "### Number of passed and failed students of the Data Science Programme ###\n",
      " Number of passed with distinction: 4 /nNumber of students Passed: 5 /nNumber of students that failed: 4/n\n"
     ]
    }
   ],
   "source": [
    "names_list =[\"Liam\",\t\"Olivia\", \"Noah\",\t\"Emma\", \"Oliver\",\t\"Ava\", \"Elijah\", \"Charlotte\", \"William\", \"Sophia\", \"James\",\t\"Amelia\", \"Benjamin\",\t\"Isabella\"]\n",
    "course_names = [\"Python Programming\", \"visual Analytics\", \"Data Mining\", \"Text Analytics\", \"Strategy\"]\n",
    "\n",
    "distinction_grades = ([\"pass\", \"pass\", \"pass\", \"pass\", \"pass\"], [\"pass\", \"pass\", \"pass\", \"pass\", \"pass\"], [\"pass\", \"pass\", \"pass\", \"pass\", \"pass\"], [\"pass\", \"pass\", \"pass\", \"pass\", \"pass\"], [\"pass\", \"pass\", \"pass\", \"pass\", \"pass\"])\n",
    "passing_grades = ([\"pass\", \"pass\", \"pass\", \"fail\", \"fail\"], [\"pass\", \"pass\", \"pass\", \"fail\", \"fail\"], [\"pass\", \"pass\", \"pass\", \"fail\", \"fail\"], [\"pass\", \"pass\", \"pass\", \"fail\", \"fail\"], [\"pass\", \"pass\", \"pass\", \"fail\", \"fail\"])\n",
    "failing_grades = ([\"fail\", \"fail\", \"fail\", \"fail\", \"fail\"], [\"fail\", \"fail\", \"fail\", \"fail\", \"fail\"], [\"fail\", \"fail\", \"fail\", \"fail\", \"fail\"], [\"fail\", \"fail\", \"fail\", \"fail\", \"fail\"], [\"fail\", \"fail\", \"fail\", \"fail\", \"fail\"])\n",
    "grade_scenarios = [distinction_grades, passing_grades, failing_grades]\n",
    "\n",
    "### create instances\n",
    "create_instances(names_list, course_names, grade_scenarios)\n",
    "ds = DiplomaProgramme('Data Science')\n",
    "\n",
    "###\n",
    "student_test = StudentTest()\n",
    "student_test.test_get_ID()\n",
    "student_test.test_list_of_courses()\n",
    "\n",
    "### test course methods\n",
    "course_test = CourseTest()\n",
    "course_test.test_add_remove()\n",
    "course_test.test_update_assignments()\n",
    "\n",
    "programme_test = DiplomaProgramme_test()\n",
    "programme_test.test_add_remove_course()\n",
    "\n",
    "### Print student grades\n",
    "print(\"\\n####################### RESULTS #######################\")\n",
    "print(\"\\n### Dictionary of students ID as keys and distinction/passed/failed status as value ###\\n\", ds.get_diploma_status())\n",
    "print(\"\\n### Number of passed and failed students of the Data Science Programme ###\\n\", ds.get_grade_summary())\n"
   ]
  },
  {
   "cell_type": "code",
   "execution_count": null,
   "metadata": {
    "id": "QoxQ7G4sZoiA"
   },
   "outputs": [],
   "source": []
  }
 ],
 "metadata": {
  "colab": {
   "collapsed_sections": [],
   "name": "Final-FoDS-A2",
   "provenance": []
  },
  "kernelspec": {
   "display_name": "Python 3",
   "language": "python",
   "name": "python3"
  },
  "language_info": {
   "codemirror_mode": {
    "name": "ipython",
    "version": 3
   },
   "file_extension": ".py",
   "mimetype": "text/x-python",
   "name": "python",
   "nbconvert_exporter": "python",
   "pygments_lexer": "ipython3",
   "version": "3.8.8"
  }
 },
 "nbformat": 4,
 "nbformat_minor": 1
}
